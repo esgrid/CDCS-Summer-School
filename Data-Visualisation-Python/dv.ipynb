{
 "cells": [
  {
   "cell_type": "markdown",
   "id": "177f1a54",
   "metadata": {},
   "source": [
    "**Note**: the following document includes explanations and code but it is not designed to stand alone; they are the notes whith which the instructor will facilitate the workshop, and thus incomplete without further modifications/clarifications/explanations. Use it to familiarise yourself with some of the notions and with how the code looks. You will create your own document as you follow along in your own machine and type your own code on the workshop days. If there are bits that don't work, don't worry, they are on purpose and you'll learn why."
   ]
  },
  {
   "cell_type": "markdown",
   "id": "dafc34be",
   "metadata": {},
   "source": [
    "<hr>"
   ]
  },
  {
   "cell_type": "markdown",
   "id": "c36e4af4",
   "metadata": {},
   "source": [
    "# Data Visualisation in Python\n",
    "\n",
    "## Overview (what to expect today)\n",
    "\n",
    "### Data Visualisation\n",
    "\n",
    "<ul>\n",
    "    <ul>\n",
    "        <li>Preparing the data and introducing Matplotlib</li>\n",
    "        <li>Line plotting</li>\n",
    "        <li>Area plots</li>\n",
    "        <li>Bar plots (horizontal and vertical)</li>\n",
    "        <li>Histogram plots</li>\n",
    "        <li>Annotating plots</li>\n",
    "    </ul>\n",
    "</ul>"
   ]
  },
  {
   "cell_type": "markdown",
   "id": "ddc4b2c0",
   "metadata": {},
   "source": [
    "## Preparing the Data and Introducing Matplotlib"
   ]
  },
  {
   "cell_type": "markdown",
   "id": "0d81909e",
   "metadata": {},
   "source": [
    "Matplotlib allows us to produce 2D plots and it is an essential library to know how to use. We will use ````matplotlib.pyplot````to be able to create different types of figures, change the x and y labels, write annotations, and more.\n",
    "\n",
    "We will combine this with ````pandas```` own capacity to plot things, which uses ````matplotlib````. We only need to create a dataframe and append ````.plot()```` to be able to plot any part of the dataframe that we may need."
   ]
  },
  {
   "cell_type": "code",
   "execution_count": null,
   "id": "b794cf67",
   "metadata": {},
   "outputs": [],
   "source": [
    "%matplotlib inline\n",
    "\n",
    "import matplotlib as mpl\n",
    "import matplotlib.pyplot as plt\n",
    "import numpy as np\n",
    "import pandas as pd"
   ]
  },
  {
   "cell_type": "markdown",
   "id": "9f1e8821",
   "metadata": {},
   "source": [
    "Let us read the file we will be using for our plots:"
   ]
  },
  {
   "cell_type": "code",
   "execution_count": null,
   "id": "0ffb72c6",
   "metadata": {
    "scrolled": true
   },
   "outputs": [],
   "source": [
    "#Getting the data: immigration of nationals in EU28 countries, 2009-2018.\n",
    "\n",
    "#Source: https://commonslibrary.parliament.uk/research-briefings/sn06077/\n",
    "\n",
    "df_immigration = pd.read_excel('CBP06077-data.xlsx',\n",
    "                              sheet_name = \"4 (1)\",\n",
    "                              skiprows = range(3))"
   ]
  },
  {
   "cell_type": "code",
   "execution_count": null,
   "id": "79446af3",
   "metadata": {},
   "outputs": [],
   "source": [
    "#Let's have a look at its head and tail\n",
    "\n",
    "df_immigration.head()"
   ]
  },
  {
   "cell_type": "code",
   "execution_count": null,
   "id": "34647097",
   "metadata": {
    "scrolled": true
   },
   "outputs": [],
   "source": [
    "df_immigration.tail()"
   ]
  },
  {
   "cell_type": "code",
   "execution_count": null,
   "id": "f30ed58a",
   "metadata": {},
   "outputs": [],
   "source": [
    "#It seems the tail is saying something strange. Let's see more of it\n",
    "\n",
    "df_immigration.tail(10)"
   ]
  },
  {
   "cell_type": "code",
   "execution_count": null,
   "id": "4d20d1bc",
   "metadata": {
    "scrolled": true
   },
   "outputs": [],
   "source": [
    "#By default .drop drops rows, so here we drop the rows from 28-36\n",
    "\n",
    "df_immigration.drop(range(28,37))"
   ]
  },
  {
   "cell_type": "code",
   "execution_count": null,
   "id": "19ae1ded",
   "metadata": {
    "scrolled": true
   },
   "outputs": [],
   "source": [
    "#To drop columns we have to tell .drop() that the axis = 1, which means columns. axis = 0 is the default\n",
    "#and it means rows\n",
    "\n",
    "df_immigration.drop(['Unnamed: 0', 'Unnamed: 12', 'Unnamed: 13', 'Unnamed: 14'], axis = 1)"
   ]
  },
  {
   "cell_type": "markdown",
   "id": "2d9f4f7f",
   "metadata": {},
   "source": [
    "Something seems wrong. We had cleaned the last rows because there weren't data, but still now we can see them. What happened?"
   ]
  },
  {
   "cell_type": "markdown",
   "id": "6de648d0",
   "metadata": {},
   "source": [
    "Yep, we forgot the \"inplace = True\" for the operation to be performed, shown **and** applied to the actual dataframe.\n",
    "\n",
    "Let's see how the datframe actually looks and correct our mistakes."
   ]
  },
  {
   "cell_type": "code",
   "execution_count": null,
   "id": "f3ae0c22",
   "metadata": {},
   "outputs": [],
   "source": [
    "df_immigration.head()"
   ]
  },
  {
   "cell_type": "code",
   "execution_count": null,
   "id": "8e6366f6",
   "metadata": {
    "scrolled": true
   },
   "outputs": [],
   "source": [
    "df_immigration.tail(10)"
   ]
  },
  {
   "cell_type": "code",
   "execution_count": null,
   "id": "5db08add",
   "metadata": {},
   "outputs": [],
   "source": [
    "df_immigration.drop(range(28, 37), inplace = True)\n",
    "df_immigration.tail()"
   ]
  },
  {
   "cell_type": "code",
   "execution_count": null,
   "id": "01aaf24d",
   "metadata": {
    "scrolled": true
   },
   "outputs": [],
   "source": [
    "df_immigration.drop(['Unnamed: 0', 'Unnamed: 12', 'Unnamed: 13', 'Unnamed: 14'], axis = 1, inplace = True)\n",
    "\n",
    "df_immigration.head()"
   ]
  },
  {
   "cell_type": "code",
   "execution_count": null,
   "id": "a5d83b02",
   "metadata": {
    "scrolled": true
   },
   "outputs": [],
   "source": [
    "df_immigration.rename(columns = {'Unnamed: 1': 'Country'}, inplace = True)\n",
    "df_immigration.head()"
   ]
  },
  {
   "cell_type": "code",
   "execution_count": null,
   "id": "869867a5",
   "metadata": {
    "scrolled": true
   },
   "outputs": [],
   "source": [
    "df_immigration.isnull().sum()"
   ]
  },
  {
   "cell_type": "code",
   "execution_count": null,
   "id": "46191eaf",
   "metadata": {},
   "outputs": [],
   "source": [
    "df_immigration.dtypes"
   ]
  },
  {
   "cell_type": "code",
   "execution_count": null,
   "id": "5d875a5c",
   "metadata": {},
   "outputs": [],
   "source": [
    "df_immigration.replace(\".\", np.nan)"
   ]
  },
  {
   "cell_type": "markdown",
   "id": "763dfefb",
   "metadata": {},
   "source": [
    "Now that all the non-data entries have been filled with NaN, we have to convert the columns that were affected by the \".\" (and hence where type \"object\" and not \"int64\") to \"int64.\"\""
   ]
  },
  {
   "cell_type": "code",
   "execution_count": null,
   "id": "d0379c01",
   "metadata": {},
   "outputs": [],
   "source": [
    "df_immigration[[2009, 2010, 2011]] = df_immigration[[2009, 2010, 2011]].astype(\"float\")\n",
    "\n",
    "#Show the types now\n",
    "df_immigration.dtypes"
   ]
  },
  {
   "cell_type": "markdown",
   "id": "fc56f513",
   "metadata": {},
   "source": [
    "Oops.. what's wrong?"
   ]
  },
  {
   "cell_type": "code",
   "execution_count": null,
   "id": "0f84c7eb",
   "metadata": {
    "scrolled": true
   },
   "outputs": [],
   "source": [
    "# Again, inplace = True, otherwise what you see is not what the dataframe actually has\n",
    "\n",
    "df_immigration.replace(\".\", np.nan, inplace = True)\n",
    "df_immigration"
   ]
  },
  {
   "cell_type": "code",
   "execution_count": null,
   "id": "dfaf75a0",
   "metadata": {},
   "outputs": [],
   "source": [
    "#Now let us do again the conversion\n",
    "\n",
    "df_immigration[[2009, 2010, 2011]] = df_immigration[[2009, 2010, 2011]].astype(\"float\")\n",
    "\n",
    "#Show the types now\n",
    "df_immigration.dtypes"
   ]
  },
  {
   "cell_type": "markdown",
   "id": "71a8cc37",
   "metadata": {},
   "source": [
    "Perfect! Question: what do we do with the \"NaNs\"?"
   ]
  },
  {
   "cell_type": "code",
   "execution_count": null,
   "id": "b53abdcd",
   "metadata": {
    "scrolled": true
   },
   "outputs": [],
   "source": [
    "df_immigration"
   ]
  },
  {
   "cell_type": "code",
   "execution_count": null,
   "id": "f0df65b6",
   "metadata": {
    "scrolled": true
   },
   "outputs": [],
   "source": [
    "df_immigration.info()"
   ]
  },
  {
   "cell_type": "code",
   "execution_count": null,
   "id": "2971396a",
   "metadata": {
    "scrolled": true
   },
   "outputs": [],
   "source": [
    "df_immigration.describe()"
   ]
  },
  {
   "cell_type": "code",
   "execution_count": null,
   "id": "affc319e",
   "metadata": {},
   "outputs": [],
   "source": [
    "df_immigration.columns.tolist()"
   ]
  },
  {
   "cell_type": "markdown",
   "id": "dd1a6dc8",
   "metadata": {},
   "source": [
    "It seems we are ready to move to our visualisations! Note that data preparation *is a part of it*, hence we went through the process prior any visualisation, and it should make visualisations easier."
   ]
  },
  {
   "cell_type": "markdown",
   "id": "92852cd6",
   "metadata": {},
   "source": [
    "Style first... sort of: we can choose the style of our <a href = \"https://matplotlib.org/stable/gallery/style_sheets/style_sheets_reference.html\">matplotlib figures</a>."
   ]
  },
  {
   "cell_type": "code",
   "execution_count": null,
   "id": "b59a879d",
   "metadata": {
    "scrolled": true
   },
   "outputs": [],
   "source": [
    "#See the styles in a list\n",
    "\n",
    "plt.style.available"
   ]
  },
  {
   "cell_type": "markdown",
   "id": "70a4d49e",
   "metadata": {},
   "source": [
    "Let's use 'seaborn' as our style (because it looks cool)"
   ]
  },
  {
   "cell_type": "code",
   "execution_count": null,
   "id": "2dfba5f3",
   "metadata": {},
   "outputs": [],
   "source": [
    "mpl.style.use(['seaborn'])"
   ]
  },
  {
   "cell_type": "markdown",
   "id": "7d6c845f",
   "metadata": {},
   "source": [
    "## Line Plotting\n",
    "\n",
    "We already plotted a simple figure yesterday using pandas. Pandas allows us to plot literally by typing ````.plot()```` just after the data frame. Let us use it again to plot some of our new immigration data."
   ]
  },
  {
   "cell_type": "markdown",
   "id": "a33074a6",
   "metadata": {},
   "source": [
    "Example: Let's pick a nice and warm country to imagine ourselves there, and ask about the immigration data from 2009 - 2015."
   ]
  },
  {
   "cell_type": "code",
   "execution_count": null,
   "id": "fa430530",
   "metadata": {},
   "outputs": [],
   "source": [
    "#Make the 'Country' column the index\n",
    "\n",
    "df_immigration.set_index('Country', inplace = True)\n",
    "\n",
    "# To remove index name: df_immigration.index.name = Name\n",
    "\n",
    "df_immigration.head()"
   ]
  },
  {
   "cell_type": "code",
   "execution_count": null,
   "id": "bce39fa2",
   "metadata": {},
   "outputs": [],
   "source": [
    "greece = df_immigration.loc['Greece', [2009, 2010, 2011, 2012, 2013, 2014, 2015]]\n",
    "greece.head()"
   ]
  },
  {
   "cell_type": "code",
   "execution_count": null,
   "id": "6c95819b",
   "metadata": {
    "scrolled": true
   },
   "outputs": [],
   "source": [
    "greece.plot()"
   ]
  },
  {
   "cell_type": "code",
   "execution_count": null,
   "id": "8788e8c7",
   "metadata": {},
   "outputs": [],
   "source": [
    "greece.plot(kind = 'line', figsize = (12, 8))\n",
    "\n",
    "plt.title('Immigration to Greece')\n",
    "plt.ylabel('Number of immigrants')\n",
    "plt.xlabel('Years')\n",
    "\n",
    "plt.show()"
   ]
  },
  {
   "cell_type": "markdown",
   "id": "76b4ff61",
   "metadata": {},
   "source": [
    "We can also annotate (more on this below) the graph."
   ]
  },
  {
   "cell_type": "code",
   "execution_count": null,
   "id": "add12950",
   "metadata": {},
   "outputs": [],
   "source": [
    "greece.plot(kind = 'line', figsize = (12, 8))\n",
    "\n",
    "plt.title('Immigration to Greece')\n",
    "plt.ylabel('Number of immigrants')\n",
    "plt.xlabel('Years')\n",
    "\n",
    "plt.text(2012.9, 29500, 'Lowest Point: '+str(greece[2014]))\n",
    "\n",
    "plt.show()"
   ]
  },
  {
   "cell_type": "markdown",
   "id": "058e01a8",
   "metadata": {},
   "source": [
    "Let's see if we can see more than one country's immigration numbers."
   ]
  },
  {
   "cell_type": "code",
   "execution_count": null,
   "id": "f30649ff",
   "metadata": {},
   "outputs": [],
   "source": [
    "df_gg = df_immigration.loc[['Greece', 'Germany'], [2009, 2010, 2011, 2012, 2013, 2014, 2015]]\n",
    "df_gg.head()"
   ]
  },
  {
   "cell_type": "markdown",
   "id": "e89d4bd5",
   "metadata": {},
   "source": [
    "There seems to be a mistake with \"Germany\". Let's see if we can figure the problem out by showing the columns."
   ]
  },
  {
   "cell_type": "code",
   "execution_count": null,
   "id": "f902a421",
   "metadata": {},
   "outputs": [],
   "source": [
    "df_immigration.columns.values"
   ]
  },
  {
   "cell_type": "markdown",
   "id": "6072d3b3",
   "metadata": {},
   "source": [
    "Since the column of \"Country\" is properly speaking the \"index\" (we made it the index above!), it doesn't appear as a column value. Let's check the index values."
   ]
  },
  {
   "cell_type": "code",
   "execution_count": null,
   "id": "53416ef0",
   "metadata": {
    "scrolled": true
   },
   "outputs": [],
   "source": [
    "df_immigration.index.values"
   ]
  },
  {
   "cell_type": "markdown",
   "id": "37155b48",
   "metadata": {},
   "source": [
    "Ah... if you look at \"Germany \", there is a very annoying space before it, and hence the actual value of that row's index is not \"Germany\" but \"Germany \", with the space. That's why it didn't recognise the name. Let's fix it."
   ]
  },
  {
   "cell_type": "code",
   "execution_count": null,
   "id": "d64f5b8c",
   "metadata": {
    "scrolled": true
   },
   "outputs": [],
   "source": [
    "df_immigration.rename(index = {'Germany ': 'Germany'}, inplace = True)\n",
    "df_immigration.index"
   ]
  },
  {
   "cell_type": "markdown",
   "id": "5d690b78",
   "metadata": {},
   "source": [
    "Excellent! Now let's continue what we were doing."
   ]
  },
  {
   "cell_type": "code",
   "execution_count": null,
   "id": "c5fa8d97",
   "metadata": {
    "scrolled": true
   },
   "outputs": [],
   "source": [
    "df_gg = df_immigration.loc[['Greece', 'Germany'], [2009, 2010, 2011, 2012, 2013, 2014, 2015]]\n",
    "df_gg.head()"
   ]
  },
  {
   "cell_type": "code",
   "execution_count": null,
   "id": "c19cb3be",
   "metadata": {
    "scrolled": true
   },
   "outputs": [],
   "source": [
    "#Plotting both Greece and Germany\n",
    "\n",
    "df_gg.plot()"
   ]
  },
  {
   "cell_type": "markdown",
   "id": "fe59a33e",
   "metadata": {},
   "source": [
    "It doesn't seem to be working: why?"
   ]
  },
  {
   "cell_type": "markdown",
   "id": "940360c7",
   "metadata": {},
   "source": [
    "It seems that with greece (on its own) it plotted well because Greece is of a different type."
   ]
  },
  {
   "cell_type": "code",
   "execution_count": null,
   "id": "78428eb5",
   "metadata": {},
   "outputs": [],
   "source": [
    "type(greece)"
   ]
  },
  {
   "cell_type": "code",
   "execution_count": null,
   "id": "827daa79",
   "metadata": {},
   "outputs": [],
   "source": [
    "type(df_gg)"
   ]
  },
  {
   "cell_type": "code",
   "execution_count": null,
   "id": "9dc40502",
   "metadata": {},
   "outputs": [],
   "source": [
    "greece.head()"
   ]
  },
  {
   "cell_type": "markdown",
   "id": "17b5bc3f",
   "metadata": {},
   "source": [
    "We need to convert the dataframe so that the years are the indices, just like in greece."
   ]
  },
  {
   "cell_type": "code",
   "execution_count": null,
   "id": "c1ed8433",
   "metadata": {
    "scrolled": true
   },
   "outputs": [],
   "source": [
    "df_gg.head()"
   ]
  },
  {
   "cell_type": "code",
   "execution_count": null,
   "id": "d47ea928",
   "metadata": {},
   "outputs": [],
   "source": [
    "df_gg.transpose()"
   ]
  },
  {
   "cell_type": "code",
   "execution_count": null,
   "id": "dc3fbdd0",
   "metadata": {
    "scrolled": true
   },
   "outputs": [],
   "source": [
    "df_gg = df_gg.transpose()\n",
    "\n",
    "df_gg.plot(kind = 'line')\n",
    "\n",
    "plt.title ('Immigration numbers to Greece and Germany')\n",
    "plt.ylabel ('Numbers of Immigrants')\n",
    "plt.xlabel ('Years')\n",
    "\n",
    "plt.show()"
   ]
  },
  {
   "cell_type": "markdown",
   "id": "a54dee84",
   "metadata": {},
   "source": [
    "Can this be right? If we look at the columns, the magnitude of immigration to Germany is in hundreds of thousands and in 2015 it surpases one million; in Greece the magnitude is in the tends of thousands, hence the graph is not a good way of \"comparing\". Can we \"compare\" them in any meaningful sense?\n",
    "\n",
    "One way is to make the values of each column relative to the maximum value of the column."
   ]
  },
  {
   "cell_type": "code",
   "execution_count": null,
   "id": "32bcb176",
   "metadata": {
    "scrolled": true
   },
   "outputs": [],
   "source": [
    "ndf_gg = df_gg\n",
    "ndf_gg[['Germany']] = df_gg[['Germany']]/df_gg[['Germany']].max()\n",
    "ndf_gg[['Greece']] = df_gg[['Greece']]/df_gg[['Greece']].max()\n",
    "ndf_gg"
   ]
  },
  {
   "cell_type": "code",
   "execution_count": null,
   "id": "ee6d9683",
   "metadata": {},
   "outputs": [],
   "source": [
    "ndf_gg.plot()\n",
    "\n",
    "plt.title ('Immigration to Greece and Germany')\n",
    "plt.ylabel ('Ratio of Immigrants (Yearly Immigration / Maximum Year Immigration)')\n",
    "plt.xlabel ('Years')\n",
    "\n",
    "plt.show()"
   ]
  },
  {
   "cell_type": "markdown",
   "id": "affe68a5",
   "metadata": {},
   "source": [
    "## Area Plots"
   ]
  },
  {
   "cell_type": "code",
   "execution_count": null,
   "id": "e6631ae8",
   "metadata": {
    "scrolled": true
   },
   "outputs": [],
   "source": [
    "df_immigration.head()"
   ]
  },
  {
   "cell_type": "code",
   "execution_count": null,
   "id": "ba9e8281",
   "metadata": {
    "scrolled": true
   },
   "outputs": [],
   "source": [
    "df_immigration['Total']=df_immigration.sum(axis = 1)\n",
    "df_immigration.head()"
   ]
  },
  {
   "cell_type": "markdown",
   "id": "ff539e76",
   "metadata": {},
   "source": [
    "Let's plot the top 3 countries in terms of immigration in the years 2009 - 2013"
   ]
  },
  {
   "cell_type": "code",
   "execution_count": null,
   "id": "16d9ff48",
   "metadata": {},
   "outputs": [],
   "source": [
    "df_immigration.sort_values(['Total'], ascending = False, axis = 0, inplace = True)\n",
    "\n",
    "df_top3 = df_immigration.head(3)\n",
    "\n",
    "df_top3 = df_top3[[2009, 2010, 2011, 2012, 2013]]\n",
    "\n",
    "df_top3 = df_top3.transpose()"
   ]
  },
  {
   "cell_type": "code",
   "execution_count": null,
   "id": "749012c4",
   "metadata": {
    "scrolled": true
   },
   "outputs": [],
   "source": [
    "df_top3.head()"
   ]
  },
  {
   "cell_type": "code",
   "execution_count": null,
   "id": "04022f0a",
   "metadata": {
    "scrolled": true
   },
   "outputs": [],
   "source": [
    "df_top3.plot(kind = 'area', stacked = False, figsize=(15, 10))\n",
    "\n",
    "plt.title ('Top 3 Immigration Trends')\n",
    "plt.ylabel('Number of Immigrants')\n",
    "plt.xlabel('Years')\n",
    "\n",
    "plt.show()"
   ]
  },
  {
   "cell_type": "code",
   "execution_count": null,
   "id": "529690ce",
   "metadata": {},
   "outputs": [],
   "source": [
    "#We can change the transparency values, the default being alpha = 0.5\n",
    "\n",
    "df_top3.plot(kind = 'area', alpha = 0.1, stacked = False, figsize=(15, 10))\n",
    "\n",
    "plt.title ('Top 3 Immigration Trends')\n",
    "plt.ylabel('Number of Immigrants')\n",
    "plt.xlabel('Years')\n",
    "\n",
    "plt.show()"
   ]
  },
  {
   "cell_type": "code",
   "execution_count": null,
   "id": "a9211fdb",
   "metadata": {},
   "outputs": [],
   "source": [
    "#We can make it stacked by removing the \"stacked = False\" option (or by setting it to \"True\")\n",
    "\n",
    "df_top3.plot(kind = 'area', alpha = 0.2, figsize=(15, 10))\n",
    "\n",
    "plt.title ('Top 3 Immigration Trends')\n",
    "plt.ylabel('Number of Immigrants')\n",
    "plt.xlabel('Years')\n",
    "\n",
    "plt.show()"
   ]
  },
  {
   "cell_type": "markdown",
   "id": "117e9448",
   "metadata": {},
   "source": [
    "## Bar Plots: Vertical and Horizontal"
   ]
  },
  {
   "cell_type": "markdown",
   "id": "985342b6",
   "metadata": {},
   "source": [
    "We will use both vertical and horizontal bar plots. We'll focus on Germany given its remarkable numbers of immigration."
   ]
  },
  {
   "cell_type": "code",
   "execution_count": null,
   "id": "689f8c2d",
   "metadata": {
    "scrolled": true
   },
   "outputs": [],
   "source": [
    "df_germany = df_immigration.loc['Germany']\n",
    "\n",
    "df_germany.head()"
   ]
  },
  {
   "cell_type": "code",
   "execution_count": null,
   "id": "49466dbd",
   "metadata": {
    "scrolled": false
   },
   "outputs": [],
   "source": [
    "df_germany.plot(kind = 'bar', figsize=(10, 5))\n",
    "\n",
    "plt.xlabel('Year')\n",
    "plt.ylabel('Immigration Numbers')\n",
    "plt.title('Immigration to Germany 2009 - 2018')\n",
    "\n",
    "plt.show()"
   ]
  },
  {
   "cell_type": "markdown",
   "id": "0d4ed49c",
   "metadata": {},
   "source": [
    "We don't need that bar of \"total\" so we can remove it from our dataframe."
   ]
  },
  {
   "cell_type": "code",
   "execution_count": null,
   "id": "3ef9203b",
   "metadata": {
    "scrolled": true
   },
   "outputs": [],
   "source": [
    "df_germany.drop(['Total'], inplace = True)\n",
    "\n",
    "df_germany.plot(kind = 'bar', figsize=(10, 5))\n",
    "\n",
    "plt.xlabel('Year')\n",
    "plt.ylabel('Immigration Numbers')\n",
    "plt.title('Immigration to Germany 2009 - 2018')\n",
    "\n",
    "plt.show()"
   ]
  },
  {
   "cell_type": "markdown",
   "id": "2d44464e",
   "metadata": {},
   "source": [
    "It seems that immigration to Germany was steadily increasing since 2009 and was doubled from 2014 to 2015, and then it returned to \"normal\" after that incredible surge. Let's try and annotate our graph."
   ]
  },
  {
   "cell_type": "code",
   "execution_count": null,
   "id": "71a95276",
   "metadata": {},
   "outputs": [],
   "source": [
    "df_germany.plot(kind = 'bar', figsize=(12, 10), rot = 45)\n",
    "\n",
    "plt.xlabel('Year')\n",
    "plt.ylabel('Immigration Numbers')\n",
    "plt.title('Immigration to Germany 2009 - 2018')\n",
    "\n",
    "plt.annotate('jump',\n",
    "            xy = (5.9, 1.45*10**6),\n",
    "            xytext = (4.9, 0.8*10**6),\n",
    "            xycoords = 'data',\n",
    "            arrowprops = dict(arrowstyle = '->', connectionstyle = 'arc3', color = 'lightblue', lw = 2))\n",
    "\n",
    "plt.show()"
   ]
  },
  {
   "cell_type": "code",
   "execution_count": null,
   "id": "4ab197d0",
   "metadata": {
    "scrolled": true
   },
   "outputs": [],
   "source": [
    "df_germany.plot(kind = 'bar', figsize=(12, 10), rot = 45)\n",
    "\n",
    "plt.xlabel('Year')\n",
    "plt.ylabel('Immigration Numbers')\n",
    "plt.title('Immigration to Germany 2009 - 2018')\n",
    "\n",
    "plt.annotate('jump',\n",
    "            xy = (5.9, 1.45*10**6),\n",
    "            xytext = (4.9, 0.8*10**6),\n",
    "            xycoords = 'data',\n",
    "            arrowprops = dict(arrowstyle = '->', connectionstyle = 'arc3', color = 'lightblue', lw = 2))\n",
    "\n",
    "plt.annotate('fall',\n",
    "            xy = (7, 0.9*10**6),\n",
    "            xytext = (5.9, 1.48*10**6),\n",
    "            xycoords = 'data',\n",
    "            arrowprops = dict(arrowstyle = '->', connectionstyle = 'arc3', color = 'lightgreen', lw = 2))\n",
    "\n",
    "plt.show()"
   ]
  },
  {
   "cell_type": "code",
   "execution_count": null,
   "id": "c77421d1",
   "metadata": {},
   "outputs": [],
   "source": [
    "df_germany.plot(kind = 'bar', figsize=(14, 11), rot = 45)\n",
    "\n",
    "plt.xlabel('Year')\n",
    "plt.ylabel('Immigration Numbers')\n",
    "plt.title('Immigration to Germany 2009 - 2018')\n",
    "\n",
    "\n",
    "# message, coordinates of the end of the arrow, coordinates of the beginning of the arrow,\n",
    "# xycoords = 'data' to use the same units as the plot,\n",
    "# type of arrow with its connectionstyle, colour and thickness\n",
    "plt.annotate('jump',\n",
    "            xy = (5.9, 1.45*10**6),\n",
    "            xytext = (4.9, 0.8*10**6),\n",
    "            xycoords = 'data',\n",
    "            arrowprops = dict(arrowstyle = '->', connectionstyle = 'arc3', color = 'lightblue', lw = 2))\n",
    "\n",
    "plt.annotate('fall',\n",
    "            xy = (7, 0.9*10**6),\n",
    "            xytext = (5.9, 1.48*10**6),\n",
    "            xycoords = 'data',\n",
    "            arrowprops = dict(arrowstyle = '->', connectionstyle = 'arc3', color = 'lightgreen', lw = 2))\n",
    "\n",
    "#We can put some text as well\n",
    "\n",
    "plt.annotate('Immigration Jump 2014 - 2015',\n",
    "             xy = (5, 0.9*10**6), \n",
    "             rotation = 75.7,\n",
    "             va = 'bottom',\n",
    "             ha = 'left')\n",
    "\n",
    "plt.annotate('Immigration Fall 2015 - 2016',\n",
    "             xy = (6.2, 1.45*10**6), \n",
    "             rotation = -70.5,\n",
    "             va = 'top',\n",
    "             ha = 'left')\n",
    "\n",
    "plt.show()"
   ]
  },
  {
   "cell_type": "markdown",
   "id": "97c55946",
   "metadata": {},
   "source": [
    "## Histogram Plots"
   ]
  },
  {
   "cell_type": "markdown",
   "id": "9123a754",
   "metadata": {},
   "source": [
    "The histogram groups or \"bins\" datasets."
   ]
  },
  {
   "cell_type": "code",
   "execution_count": null,
   "id": "b722e294",
   "metadata": {},
   "outputs": [],
   "source": [
    "df_immigration[2015].head()"
   ]
  },
  {
   "cell_type": "code",
   "execution_count": null,
   "id": "e3f64895",
   "metadata": {},
   "outputs": [],
   "source": [
    "count, bins = np.histogram(df_immigration[2015])\n",
    "\n",
    "# count is the frequency count\n",
    "\n",
    "#bins is the divisions, which if not indicated, it defaults to 10"
   ]
  },
  {
   "cell_type": "code",
   "execution_count": null,
   "id": "3ba26d44",
   "metadata": {},
   "outputs": [],
   "source": [
    "count"
   ]
  },
  {
   "cell_type": "code",
   "execution_count": null,
   "id": "d65ebebd",
   "metadata": {},
   "outputs": [],
   "source": [
    "bins"
   ]
  },
  {
   "cell_type": "code",
   "execution_count": null,
   "id": "724aac71",
   "metadata": {},
   "outputs": [],
   "source": [
    "df_immigration[2015].plot(kind = 'hist', figsize=(10, 8), xticks = bins)\n",
    "\n",
    "plt.title('Histogram of Immigration to the EU in 2015')\n",
    "plt.ylabel('Number of Countries')\n",
    "plt.xlabel('Number of Immigrants')\n",
    "\n",
    "plt.show()"
   ]
  },
  {
   "cell_type": "markdown",
   "id": "7923051f",
   "metadata": {},
   "source": [
    "Note that the units below are in factors of ten to the power of six (that is factors of a million)"
   ]
  },
  {
   "cell_type": "markdown",
   "id": "977ae458",
   "metadata": {},
   "source": [
    "Let's see the contribution to total immigration in the EU of four countries."
   ]
  },
  {
   "cell_type": "code",
   "execution_count": null,
   "id": "610dcb53",
   "metadata": {},
   "outputs": [],
   "source": [
    "df_immigration.index.values"
   ]
  },
  {
   "cell_type": "code",
   "execution_count": null,
   "id": "c2985923",
   "metadata": {},
   "outputs": [],
   "source": [
    "df_immigration.loc[['Romania', 'Belgium', 'Sweden', 'Austria'], [2013, 2014, 2015, 2016, 2017]].head()"
   ]
  },
  {
   "cell_type": "code",
   "execution_count": null,
   "id": "e0d31c2d",
   "metadata": {},
   "outputs": [],
   "source": [
    "df_four = df_immigration.loc[['Romania', 'Belgium', 'Sweden', 'Austria'], [2013, 2014, 2015, 2016, 2017]].transpose()\n",
    "df_four.head()"
   ]
  },
  {
   "cell_type": "code",
   "execution_count": null,
   "id": "951c8470",
   "metadata": {},
   "outputs": [],
   "source": [
    "df_four.plot(kind = 'hist', figsize = (10, 8))\n",
    "\n",
    "plt.title('Romania, Belgium, Sweden, Austria: Histogram of Immigration from 2013 - 2017')\n",
    "plt.ylabel('Number of Years')\n",
    "plt.xlabel('Immigration Numbers')\n",
    "\n",
    "plt.show()"
   ]
  },
  {
   "cell_type": "markdown",
   "id": "66e64c3d",
   "metadata": {},
   "source": [
    "Let's make it more understandable. We can change the bin number, the transparency, and the colours.\n",
    "\n",
    "Also, note that the x \"ticks\" do not coincide with the bars. We'll fix that as well.\n",
    "\n",
    "The interpretation is clear though: each bar shows us how many years the given country had immigration numbers that correspond to the x-scale. For example, we can see that Romania has had four years of being (roughly) between 1000 and 2500, and one year between 2500 and 4000. "
   ]
  },
  {
   "cell_type": "code",
   "execution_count": null,
   "id": "56c8a7ae",
   "metadata": {},
   "outputs": [],
   "source": [
    "# see colours here: https://matplotlib.org/2.0.2/examples/color/named_colors.html\n",
    "\n",
    "count, bins = np.histogram(df_four, 15)\n",
    "\n",
    "df_four.plot(kind = 'hist', figsize = (10, 8), bins = 15, alpha = 0.4, xticks = bins, \n",
    "             color = ['tomato', 'palegreen', 'plum', 'lightpink'])\n",
    "\n",
    "plt.title('Romania, Belgium, Sweden, Austria: Histogram of Immigration from 2013 - 2017')\n",
    "plt.ylabel('Number of Years')\n",
    "plt.xlabel('Immigration Numbers')\n",
    "\n",
    "plt.show()"
   ]
  },
  {
   "cell_type": "code",
   "execution_count": null,
   "id": "0a330e93",
   "metadata": {},
   "outputs": [],
   "source": [
    "count, bins = np.histogram(df_four, 15)\n",
    "\n",
    "df_four.plot(kind = 'hist', figsize = (10, 8), bins = 15, alpha = 0.4, xticks = bins, \n",
    "             color = ['tomato', 'palegreen', 'plum', 'lightpink'], stacked = True)\n",
    "\n",
    "plt.title('Romania, Belgium, Sweden, Austria: Histogram of Immigration from 2013 - 2017')\n",
    "plt.ylabel('Number of Years')\n",
    "plt.xlabel('Immigration Numbers')\n",
    "\n",
    "plt.show()"
   ]
  },
  {
   "cell_type": "code",
   "execution_count": null,
   "id": "d69a4a5a",
   "metadata": {},
   "outputs": [],
   "source": []
  }
 ],
 "metadata": {
  "kernelspec": {
   "display_name": "Python 3",
   "language": "python",
   "name": "python3"
  },
  "language_info": {
   "codemirror_mode": {
    "name": "ipython",
    "version": 3
   },
   "file_extension": ".py",
   "mimetype": "text/x-python",
   "name": "python",
   "nbconvert_exporter": "python",
   "pygments_lexer": "ipython3",
   "version": "3.8.8"
  }
 },
 "nbformat": 4,
 "nbformat_minor": 5
}
