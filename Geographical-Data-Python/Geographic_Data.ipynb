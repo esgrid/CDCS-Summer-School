{
 "cells": [
  {
   "cell_type": "markdown",
   "metadata": {},
   "source": [
    "#  Install and Import Packages\n",
    "\n",
    "You may get an error when trying to install geopandas directly via the Jupyter notebook. Do not worry I will demo how to do it via conda and the prompt of comand"
   ]
  },
  {
   "cell_type": "code",
   "execution_count": null,
   "metadata": {},
   "outputs": [],
   "source": [
    "%pip install git+git://github.com/geopandas/geopandas.git"
   ]
  },
  {
   "cell_type": "code",
   "execution_count": null,
   "metadata": {},
   "outputs": [],
   "source": [
    "%pip install matplotlib.pyplot\n",
    "%pip install numpy\n",
    "%pip install shapely.geometry"
   ]
  },
  {
   "cell_type": "code",
   "execution_count": null,
   "metadata": {},
   "outputs": [],
   "source": [
    "import geopandas as gpd\n",
    "import matplotlib.pyplot as plt\n",
    "import pandas as pd\n",
    "import numpy as np\n",
    "from shapely.geometry import Point, Polygon"
   ]
  },
  {
   "cell_type": "markdown",
   "metadata": {},
   "source": [
    "# Import Shapefile and Show Data"
   ]
  },
  {
   "cell_type": "code",
   "execution_count": null,
   "metadata": {},
   "outputs": [],
   "source": [
    "# Geopandas offers the most straighforward approach to importing geospatial data\n",
    "# Be sure that all necessary files are in the same folder as the .shp"
   ]
  },
  {
   "cell_type": "code",
   "execution_count": null,
   "metadata": {},
   "outputs": [],
   "source": [
    "Points_Shape = gpd.read_file(\"Data/Shapefiles/Points.shp\")\n",
    "Lines_Shape = gpd.read_file(\"Data/Shapefiles/Lines.shp\")\n",
    "Polygons_Shape = gpd.read_file(\"Data/Shapefiles/Polygons.shp\")"
   ]
  },
  {
   "cell_type": "code",
   "execution_count": null,
   "metadata": {},
   "outputs": [],
   "source": [
    "type(Points_Shape)\n",
    "# Type shows that this is a geodataframe"
   ]
  },
  {
   "cell_type": "code",
   "execution_count": null,
   "metadata": {
    "scrolled": true
   },
   "outputs": [],
   "source": [
    "Points_Shape.head()\n",
    "# This shows that the the geospatial data has some basic attributes attached to it, numerical ID in this case"
   ]
  },
  {
   "cell_type": "code",
   "execution_count": null,
   "metadata": {},
   "outputs": [],
   "source": [
    "Points_Shape.crs\n",
    "# Information regarding the CRS can be generated using .crs\n",
    "# CRS can be changed using .to_crs()"
   ]
  },
  {
   "cell_type": "markdown",
   "metadata": {},
   "source": [
    "# Plot Basic Shapefiles"
   ]
  },
  {
   "cell_type": "code",
   "execution_count": null,
   "metadata": {
    "scrolled": false
   },
   "outputs": [],
   "source": [
    "Points_Shape.plot()\n",
    "# The basic plot fucntion in geopandas can very easily generate a plot based on the geospatial information"
   ]
  },
  {
   "cell_type": "code",
   "execution_count": null,
   "metadata": {
    "scrolled": true
   },
   "outputs": [],
   "source": [
    "Points_Shape.plot()\n",
    "Lines_Shape.plot()\n",
    "Polygons_Shape.plot()\n",
    "# Multiple plots can be added at once"
   ]
  },
  {
   "cell_type": "code",
   "execution_count": null,
   "metadata": {},
   "outputs": [],
   "source": [
    "# They can also be overlayed on top of one another\n",
    "Basic_shapes = Polygons_Shape.boundary.plot(figsize=(18, 12), color='Black', linewidth=.5)\n",
    "Points_Shape.plot(ax=Basic_shapes, markersize=50, color='Red')\n",
    "Lines_Shape.plot(ax=Basic_shapes, color=\"Yellow\")\n",
    "Shapes_out = Polygons_Shape.plot(ax=Basic_shapes, color=\"Green\")\n",
    "# ax sets the axes on which the plots will be displayed, in this case on the boundary of the polygons extent (Basic_shapes)"
   ]
  },
  {
   "cell_type": "markdown",
   "metadata": {},
   "source": [
    "# Real World Data"
   ]
  },
  {
   "cell_type": "code",
   "execution_count": null,
   "metadata": {},
   "outputs": [],
   "source": [
    "# Lets add some more recognisable shapefiles, in this case, Scotland\n",
    "Scot_plot = gpd.read_file(\"Data/Shapefiles/Scotland.shp\")\n",
    "Scot_map = Scot_plot.boundary.plot(figsize=(18, 12), color='Black', linewidth=.5)\n",
    "Points_Shape.plot(ax=Scot_map, markersize=50, color='Red')\n",
    "Lines_Shape.plot(ax=Scot_map, color=\"Yellow\")\n",
    "Scot_shapes = Polygons_Shape.plot(ax=Scot_map, color=\"Green\")"
   ]
  },
  {
   "cell_type": "code",
   "execution_count": null,
   "metadata": {},
   "outputs": [],
   "source": [
    "# With this we can see that these basic shapes have geographical data associted with them, tying them to real geographical locations\n",
    "Scot_plot.geometry.total_bounds"
   ]
  },
  {
   "cell_type": "code",
   "execution_count": null,
   "metadata": {},
   "outputs": [],
   "source": [
    "Scot_plot.crs"
   ]
  },
  {
   "cell_type": "code",
   "execution_count": null,
   "metadata": {},
   "outputs": [],
   "source": [
    "# Now lets add the rest of the UK constituencies to the plot\n",
    "Constits = gpd.read_file(\"Data/Shapefiles/Constituencies.shp\")\n",
    "Constits_map = Constits.boundary.plot(figsize=(18, 12), color='Black', linewidth=.5)\n",
    "Scot_plot.plot(ax=Constits_map)\n",
    "Constits_map = Constits.plot(ax=Constits_map)\n",
    "# Note that the constituencies and Scotland hapefile are both in this plot"
   ]
  },
  {
   "cell_type": "code",
   "execution_count": null,
   "metadata": {},
   "outputs": [],
   "source": [
    "# We can also zoom in, adjusting the extent by setting an x and y limit based on the extent of a specific shapefile\n",
    "fig, ax = plt.subplots(figsize = (10,6))\n",
    "xlim = ([Scot_plot.total_bounds[0],  Scot_plot.total_bounds[2]])\n",
    "ylim = ([Scot_plot.total_bounds[1],  Scot_plot.total_bounds[3]])\n",
    "ax.set_xlim(xlim)\n",
    "ax.set_ylim(ylim)\n",
    "Constits.plot(ax=ax)\n",
    "Constits.boundary.plot(color='black', linewidth=0.5, ax=ax)\n",
    "\n"
   ]
  },
  {
   "cell_type": "code",
   "execution_count": null,
   "metadata": {},
   "outputs": [],
   "source": [
    "Constits.boundary.plot(figsize=(18, 12), color='Black', linewidth=.5)\n",
    "# It can also be plotted without a fill"
   ]
  },
  {
   "cell_type": "markdown",
   "metadata": {},
   "source": [
    "# Greater Customisation and Visualisation"
   ]
  },
  {
   "cell_type": "code",
   "execution_count": null,
   "metadata": {},
   "outputs": [],
   "source": [
    "# These maps are fine, but not very colourful\n",
    "Constits.plot(cmap='viridis', figsize=(18,16))\n",
    "# viridis offers a default colour map, but there are many other options, see:\n",
    "# \"https://matplotlib.org/stable/tutorials/colors/colormaps.html\"\n",
    "# figsize simply sets the size of the output, this does not affect the data itself in any way"
   ]
  },
  {
   "cell_type": "code",
   "execution_count": null,
   "metadata": {
    "scrolled": true
   },
   "outputs": [],
   "source": [
    "# We can also colour these based on attributes, by using column, and adding a legend\n",
    "Constits.plot(figsize=(18,16), column='country_na', legend='True')"
   ]
  },
  {
   "cell_type": "code",
   "execution_count": null,
   "metadata": {},
   "outputs": [],
   "source": [
    "# Colour can also be changed based on attributes. Lets make some variables for each country of the UK\n",
    "Eng = Constits[Constits['country_na'].isin(['England'])]\n",
    "Scot = Constits[Constits['country_na'].isin(['Scotland'])]\n",
    "Wales = Constits[Constits['country_na'].isin(['Wales'])]\n",
    "N_Ire = Constits[Constits['country_na'].isin(['Northern Ireland'])]"
   ]
  },
  {
   "cell_type": "code",
   "execution_count": null,
   "metadata": {},
   "outputs": [],
   "source": [
    "# Now we can plot each on top of the other, with different colours\n",
    "UK_Map = Constits.boundary.plot(figsize=(18, 12), color='Black', linewidth=.5)\n",
    "Eng.plot(ax=UK_Map,  color=\"Red\")\n",
    "Scot.plot(ax=UK_Map, color=\"Blue\")\n",
    "Wales.plot(ax=UK_Map, color=\"Orange\")\n",
    "final_map = N_Ire.plot(ax=UK_Map, color=\"Green\")"
   ]
  },
  {
   "cell_type": "markdown",
   "metadata": {},
   "source": [
    "# Adding Additional Attributes"
   ]
  },
  {
   "cell_type": "code",
   "execution_count": null,
   "metadata": {},
   "outputs": [],
   "source": [
    "# With more attributes linked to our geographic data, we have even greater scope for visualisation\n",
    "Elec = pd.read_csv('Data/csv/Election_Results.csv')"
   ]
  },
  {
   "cell_type": "code",
   "execution_count": null,
   "metadata": {},
   "outputs": [],
   "source": [
    "Elec.head()"
   ]
  },
  {
   "cell_type": "code",
   "execution_count": null,
   "metadata": {},
   "outputs": [],
   "source": [
    "# With this we combine the geodataframe with the data from Elec\n",
    "merged = Constits.set_index('pconname').join(Elec.set_index('constituency_name'))"
   ]
  },
  {
   "cell_type": "code",
   "execution_count": null,
   "metadata": {},
   "outputs": [],
   "source": [
    "merged.head()"
   ]
  },
  {
   "cell_type": "markdown",
   "metadata": {},
   "source": [
    "# Labels"
   ]
  },
  {
   "cell_type": "code",
   "execution_count": null,
   "metadata": {},
   "outputs": [],
   "source": [
    "fig, ax = plt.subplots(figsize = (20,20))\n",
    "merged.apply(lambda x: ax.annotate(text=x.turnout, xy=x.geometry.centroid.coords[0], ha='center', fontsize=5, backgroundcolor=\"black\", color=\"White\"),axis=1);\n",
    "merged.boundary.plot(ax=ax, color=\"Black\", linewidth=0.5)\n",
    "Eng.plot(ax=ax,  color=\"Red\")\n",
    "Scot.plot(ax=ax, color=\"Blue\")\n",
    "Wales.plot(ax=ax, color=\"Orange\")\n",
    "N_Ire.plot(ax=ax, color=\"Green\")\n",
    "# Annotate allows text to be added, and further detail can be plotted over this with various parameters\n",
    "# Though with so many different small constituencies, this specific labeling is not particularly helpful...\n",
    "# if you run into an error while running this code you may need to substitue text wtih s (the variable is called differently in different version of the package)"
   ]
  },
  {
   "cell_type": "code",
   "execution_count": null,
   "metadata": {},
   "outputs": [],
   "source": [
    "# Let's try an example with Scotland isolated"
   ]
  },
  {
   "cell_type": "code",
   "execution_count": null,
   "metadata": {},
   "outputs": [],
   "source": [
    "fig, ax = plt.subplots(figsize = (20,20))\n",
    "Scot_plot.apply(lambda x: ax.annotate(text=x.pconname, xy=x.geometry.centroid.coords[0], ha='center', fontsize=5, backgroundcolor=\"yellow\", color=\"black\"),axis=1);\n",
    "Scot_plot.boundary.plot(ax=ax, color=\"Black\", linewidth=0.5)\n",
    "plt.xlabel('Longitude')\n",
    "plt.ylabel('Latitude')\n",
    "# Labels can be added to the axes using x and y label\n",
    "# if you run into an error while running this code you may need to substitue text wtih s (the variable is called differently in different version of the package)"
   ]
  },
  {
   "cell_type": "markdown",
   "metadata": {},
   "source": [
    "# Plot New Attributes"
   ]
  },
  {
   "cell_type": "code",
   "execution_count": null,
   "metadata": {},
   "outputs": [],
   "source": [
    "# Rather than simply labeling with the new attributes, we can have more meaningful visualisations\n",
    "merged.plot(column='first_party', cmap='Pastel2', linewidth=0.8, edgecolor='Black', figsize=(18, 12))"
   ]
  },
  {
   "cell_type": "code",
   "execution_count": null,
   "metadata": {},
   "outputs": [],
   "source": [
    "# We can use some more appropriate colours for this visualisation based on winning parties in each constituency\n",
    "Con = merged[merged['first_party'].isin(['Con'])]\n",
    "Lab = merged[merged['first_party'].isin(['Lab'])]\n",
    "SNP = merged[merged['first_party'].isin(['SNP'])]\n",
    "LD = merged[merged['first_party'].isin(['LD'])]\n",
    "DUP = merged[merged['first_party'].isin(['DUP'])]\n",
    "PC = merged[merged['first_party'].isin(['PC'])]\n",
    "Green = merged[merged['first_party'].isin(['Green'])]\n",
    "SF = merged[merged['first_party'].isin(['SF'])]\n",
    "SDLP = merged[merged['first_party'].isin(['SDLP'])]\n",
    "UUP = merged[merged['first_party'].isin(['UUP'])]\n",
    "Ind = merged[merged['first_party'].isin(['Ind'])]\n",
    "UKIP = merged[merged['first_party'].isin(['UKIP'])]\n",
    "Spk = merged[merged['first_party'].isin(['Spk'])]"
   ]
  },
  {
   "cell_type": "code",
   "execution_count": null,
   "metadata": {},
   "outputs": [],
   "source": [
    "UK_part_map = merged.boundary.plot(figsize=(18, 16), color='Black', linewidth=.5)\n",
    "Con.plot(ax=UK_part_map, color=\"#0087DC\")\n",
    "Lab.plot(ax=UK_part_map, color=\"#E4003B\")\n",
    "SNP.plot(ax=UK_part_map, color=\"#FDF38E\")\n",
    "LD.plot(ax=UK_part_map, color=\"#FAA61A\")\n",
    "DUP.plot(ax=UK_part_map, color=\"#D46A4C\")\n",
    "PC.plot(ax=UK_part_map, color=\"#005B54\")\n",
    "Green.plot(ax=UK_part_map, color=\"#528D6B\")\n",
    "SF.plot(ax=UK_part_map, color=\"#326760\")\n",
    "SDLP.plot(ax=UK_part_map, color=\"#2AA82C\")\n",
    "UUP.plot(ax=UK_part_map, color=\"#48A5EE\")\n",
    "Ind.plot(ax=UK_part_map, color=\"#DDDDDD\")\n",
    "UKIP.plot(ax=UK_part_map, color=\"#70147A\")\n",
    "final_map = Spk.plot(ax=UK_part_map, color=\"white\")"
   ]
  },
  {
   "cell_type": "markdown",
   "metadata": {},
   "source": [
    "# Combining Plots"
   ]
  },
  {
   "cell_type": "code",
   "execution_count": null,
   "metadata": {},
   "outputs": [],
   "source": [
    "# Two (or more) separate plots can be alligned next to one another for easier comparison\n",
    "# Subplots can be used for this. The (121) arguments shows that there is 1 row, 2 columns and the current axis is plot 1\n",
    "\n",
    "fig = plt.figure(figsize=(20,20))\n",
    "fig.suptitle('UK General Election 2015 Results and Turnout', fontsize=40)\n",
    "ax1 = fig.add_subplot(121)\n",
    "\n",
    "ax1.set_title('2015 Election Results', fontdict={'fontsize': '25', 'fontweight' : '3'})\n",
    "\n",
    "merged.boundary.plot(ax=ax1,color='Black', linewidth=.5)\n",
    "Con.plot(ax=ax1, color=\"#0087DC\")\n",
    "Lab.plot(ax=ax1, color=\"#E4003B\")\n",
    "SNP.plot(ax=ax1, color=\"#FDF38E\")\n",
    "LD.plot(ax=ax1, color=\"#FAA61A\")\n",
    "DUP.plot(ax=ax1, color=\"#D46A4C\")\n",
    "PC.plot(ax=ax1, color=\"#005B54\")\n",
    "Green.plot(ax=ax1, color=\"#528D6B\")\n",
    "SF.plot(ax=ax1, color=\"#326760\")\n",
    "SDLP.plot(ax=ax1, color=\"#2AA82C\")\n",
    "UUP.plot(ax=ax1, color=\"#48A5EE\")\n",
    "Ind.plot(ax=ax1, color=\"#DDDDDD\")\n",
    "UKIP.plot(ax=ax1, color=\"#70147A\")\n",
    "Spk.plot(ax=ax1, color=\"white\")\n",
    "\n",
    "ax2 = fig.add_subplot(122)\n",
    "ax2.set_title('2015 Election Turnout', fontdict={'fontsize': '25', 'fontweight' : '3'})\n",
    "merged.plot(column='turnout', cmap='OrRd_r', linewidth=0.5, edgecolor='Black', figsize=(18, 12), ax=ax2, legend='True', legend_kwds={'label': \"Turnout (%)\"})"
   ]
  },
  {
   "cell_type": "code",
   "execution_count": null,
   "metadata": {},
   "outputs": [],
   "source": [
    "# Titles and legends can be added for the entire plot (fig.) or for the specific plots (ax1./ax2. etc.)"
   ]
  },
  {
   "cell_type": "code",
   "execution_count": null,
   "metadata": {},
   "outputs": [],
   "source": [
    "# Overlaying additional shapefiles in different formats (in this case Cities points) is straightforward\n",
    "# Two (or more) separate plots can be alligned next to one another for easier comparison\n",
    "# Subplots can be used for this. The (121) arguments shows that there is 1 row, 2 columns and the current axis is plot 1\n",
    "Cities = gpd.read_file(\"Data/Shapefiles/Cities.shp\")\n",
    "\n",
    "fig = plt.figure(figsize=(20,20))\n",
    "fig.suptitle('UK General Election 2015 Results and Turnout', fontsize=40)\n",
    "\n",
    "ax1 = fig.add_subplot(121)\n",
    "\n",
    "ax1.set_title('2015 Election Results', fontdict={'fontsize': '25', 'fontweight' : '3'})\n",
    "\n",
    "merged.boundary.plot(ax=ax1,color='Black', linewidth=.5)\n",
    "Con.plot(ax=ax1, color=\"#0087DC\")\n",
    "Lab.plot(ax=ax1, color=\"#E4003B\")\n",
    "SNP.plot(ax=ax1, color=\"#FDF38E\")\n",
    "LD.plot(ax=ax1, color=\"#FAA61A\")\n",
    "DUP.plot(ax=ax1, color=\"#D46A4C\")\n",
    "PC.plot(ax=ax1, color=\"#005B54\")\n",
    "Green.plot(ax=ax1, color=\"#528D6B\")\n",
    "SF.plot(ax=ax1, color=\"#326760\")\n",
    "SDLP.plot(ax=ax1, color=\"#2AA82C\")\n",
    "UUP.plot(ax=ax1, color=\"#48A5EE\")\n",
    "Ind.plot(ax=ax1, color=\"#DDDDDD\")\n",
    "UKIP.plot(ax=ax1, color=\"#70147A\")\n",
    "Spk.plot(ax=ax1, color=\"white\")\n",
    "Cities.plot(ax=ax1, color=\"black\")\n",
    "plt.xlabel('Longitude')\n",
    "plt.ylabel('Latitude')\n",
    "\n",
    "ax2 = fig.add_subplot(122)\n",
    "ax2.set_title('2015 Election Turnout', fontdict={'fontsize': '25', 'fontweight' : '3'})\n",
    "merged.plot(column='turnout', cmap='OrRd_r', linewidth=0.5, edgecolor='Black', figsize=(18, 12), ax=ax2, legend='True', legend_kwds={'label': \"Turnout (%)\"})\n",
    "plt.xlabel('Longitude')\n",
    "plt.ylabel('Latitude')"
   ]
  },
  {
   "cell_type": "markdown",
   "metadata": {},
   "source": [
    "# Exporting Plots"
   ]
  },
  {
   "cell_type": "code",
   "execution_count": null,
   "metadata": {},
   "outputs": [],
   "source": [
    "# Plots can be exported as various different formats using .savefig()\n",
    "# This can be used in conjuction with, or instead of visualising the plot\n",
    "fig, ax = plt.subplots(figsize = (20,20))\n",
    "\n",
    "ax.set_title('2015 Election Results', fontdict={'fontsize': '25', 'fontweight' : '3'})\n",
    "\n",
    "merged.boundary.plot(ax=ax,color='Black', linewidth=.5)\n",
    "Con.plot(ax=ax, color=\"#0087DC\")\n",
    "Lab.plot(ax=ax, color=\"#E4003B\")\n",
    "SNP.plot(ax=ax, color=\"#FDF38E\")\n",
    "LD.plot(ax=ax, color=\"#FAA61A\")\n",
    "DUP.plot(ax=ax, color=\"#D46A4C\")\n",
    "PC.plot(ax=ax, color=\"#005B54\")\n",
    "Green.plot(ax=ax, color=\"#528D6B\")\n",
    "SF.plot(ax=ax, color=\"#326760\")\n",
    "SDLP.plot(ax=ax, color=\"#2AA82C\")\n",
    "UUP.plot(ax=ax, color=\"#48A5EE\")\n",
    "Ind.plot(ax=ax, color=\"#DDDDDD\")\n",
    "UKIP.plot(ax=ax, color=\"#70147A\")\n",
    "Spk.plot(ax=ax, color=\"white\")\n",
    "Cities.plot(ax=ax, color=\"black\")\n",
    "plt.xlabel('Longitude')\n",
    "plt.ylabel('Latitude')\n",
    "\n",
    "plt.savefig('Output/Results.png')"
   ]
  },
  {
   "cell_type": "code",
   "execution_count": null,
   "metadata": {},
   "outputs": [],
   "source": [
    "# .savefig() has additional options for the desired output\n",
    "\n",
    "fig, ax = plt.subplots(figsize = (20,20))\n",
    "ax.set_title('2015 Election Turnout', fontdict={'fontsize': '25', 'fontweight' : '3'})\n",
    "merged.plot(column='turnout', cmap='OrRd_r', linewidth=0.5, edgecolor='Black', figsize=(18, 12), ax=ax, legend='True', legend_kwds={'label': \"Turnout (%)\"})\n",
    "plt.xlabel('Longitude')\n",
    "plt.ylabel('Latitude')\n",
    "\n",
    "plt.savefig('Output/Turnout.jpg', dpi=30, transparent='True', bbox_inches='tight')"
   ]
  },
  {
   "cell_type": "code",
   "execution_count": null,
   "metadata": {},
   "outputs": [],
   "source": [
    "# There is much more to Geographical Data with Python, but hopefully with these basics, you will be able to find suitable methods and outputs for your own research"
   ]
  }
 ],
 "metadata": {
  "kernelspec": {
   "display_name": "Python 3",
   "language": "python",
   "name": "python3"
  },
  "language_info": {
   "codemirror_mode": {
    "name": "ipython",
    "version": 3
   },
   "file_extension": ".py",
   "mimetype": "text/x-python",
   "name": "python",
   "nbconvert_exporter": "python",
   "pygments_lexer": "ipython3",
   "version": "3.7.6"
  }
 },
 "nbformat": 4,
 "nbformat_minor": 5
}
