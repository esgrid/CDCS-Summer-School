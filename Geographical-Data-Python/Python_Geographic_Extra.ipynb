{
 "cells": [
  {
   "cell_type": "code",
   "execution_count": null,
   "id": "e9f227b6",
   "metadata": {},
   "outputs": [],
   "source": [
    "import geopandas as gpd\n",
    "import matplotlib.pyplot as plt\n",
    "import pandas as pd\n",
    "import numpy as np\n",
    "from shapely.geometry import Point, Polygon\n",
    "import rasterio as rio"
   ]
  },
  {
   "cell_type": "markdown",
   "id": "1c84c333",
   "metadata": {},
   "source": [
    "# Custom Color"
   ]
  },
  {
   "cell_type": "code",
   "execution_count": null,
   "id": "fbd80a8d",
   "metadata": {},
   "outputs": [],
   "source": [
    "Constits = gpd.read_file(\"Data/Shapefiles/Constituencies.shp\")\n",
    "Elec = pd.read_csv('Data/csv/Election_Results.csv')\n",
    "merged = Constits.set_index('pconname').join(Elec.set_index('constituency_name'))"
   ]
  },
  {
   "cell_type": "code",
   "execution_count": null,
   "id": "f740e74e",
   "metadata": {},
   "outputs": [],
   "source": [
    "UK_part_map = merged.plot(figsize=(18, 16), column='first_party', legend=True)"
   ]
  },
  {
   "cell_type": "code",
   "execution_count": null,
   "id": "09bcb0da",
   "metadata": {},
   "outputs": [],
   "source": [
    "partyPalette = {'Con':\"#0087DC\",\n",
    "                'Lab':\"#E4003B\",\n",
    "                'Green':\"#528D6B\",\n",
    "                'Spk':\"white\",\n",
    "                'LD':\"#FAA61A\",\n",
    "                'UKIP':\"#70147A\",\n",
    "                'SNP':\"#FDF38E\",\n",
    "                'PC':\"#005B54\",\n",
    "                'DUP':\"#D46A4C\",\n",
    "                'SDLP':\"#2AA82C\",\n",
    "                'SF':\"#326760\",\n",
    "                'UUP':\"#48A5EE\",\n",
    "                'Ind':\"#DDDDDD\"}\n",
    "partyPalette"
   ]
  },
  {
   "cell_type": "code",
   "execution_count": null,
   "id": "a5f1e683",
   "metadata": {
    "scrolled": true
   },
   "outputs": [],
   "source": [
    "fig, ax = plt.subplots(figsize=(10, 10))\n",
    "for ctype, data in merged.groupby('first_party'):\n",
    "    color = partyPalette[ctype]\n",
    "    data.plot(color=color,\n",
    "              ax=ax,\n",
    "              label=ctype,\n",
    "             legend=True)\n",
    "ax.legend()"
   ]
  },
  {
   "cell_type": "markdown",
   "id": "1383bdf6",
   "metadata": {},
   "source": [
    "# Rasters"
   ]
  },
  {
   "cell_type": "code",
   "execution_count": null,
   "id": "5a5dfbc6",
   "metadata": {},
   "outputs": [],
   "source": [
    "raster = rio.open(\"Data/Jan_Wind.tif\")"
   ]
  },
  {
   "cell_type": "code",
   "execution_count": null,
   "id": "5b7f1f00",
   "metadata": {},
   "outputs": [],
   "source": [
    "type(raster)"
   ]
  },
  {
   "cell_type": "code",
   "execution_count": null,
   "id": "9d5b358d",
   "metadata": {},
   "outputs": [],
   "source": [
    "# Projection\n",
    "raster.crs"
   ]
  },
  {
   "cell_type": "code",
   "execution_count": null,
   "id": "a8dcadaa",
   "metadata": {},
   "outputs": [],
   "source": [
    "# Affine transform (how raster is scaled, rotated, skewed, and/or translated)\n",
    "raster.transform"
   ]
  },
  {
   "cell_type": "code",
   "execution_count": null,
   "id": "d9d3d41f",
   "metadata": {},
   "outputs": [],
   "source": [
    "# Dimensions\n",
    "raster.width"
   ]
  },
  {
   "cell_type": "code",
   "execution_count": null,
   "id": "768a9cdc",
   "metadata": {},
   "outputs": [],
   "source": [
    "raster.height"
   ]
  },
  {
   "cell_type": "code",
   "execution_count": null,
   "id": "49b7014b",
   "metadata": {},
   "outputs": [],
   "source": [
    "# Number of bands\n",
    "raster.count"
   ]
  },
  {
   "cell_type": "code",
   "execution_count": null,
   "id": "6205b75f",
   "metadata": {},
   "outputs": [],
   "source": [
    "# Extent\n",
    "raster.bounds"
   ]
  },
  {
   "cell_type": "code",
   "execution_count": null,
   "id": "493bb4bb",
   "metadata": {
    "scrolled": true
   },
   "outputs": [],
   "source": [
    "raster.meta"
   ]
  },
  {
   "cell_type": "code",
   "execution_count": null,
   "id": "9cd7dcb0",
   "metadata": {},
   "outputs": [],
   "source": [
    "band1 = raster.read(1)\n",
    "type(band1)"
   ]
  },
  {
   "cell_type": "code",
   "execution_count": null,
   "id": "a8f81288",
   "metadata": {},
   "outputs": [],
   "source": [
    "band1.dtype"
   ]
  },
  {
   "cell_type": "code",
   "execution_count": null,
   "id": "8e5490fa",
   "metadata": {},
   "outputs": [],
   "source": []
  },
  {
   "cell_type": "code",
   "execution_count": null,
   "id": "9fa3b1b6",
   "metadata": {},
   "outputs": [],
   "source": [
    "# Get Raster Stats\n",
    "array = raster.read()\n",
    "stats = []\n",
    "for band in array:\n",
    "    stats.append({'min': band.min(),\n",
    "                  'mean': band.mean(),\n",
    "                  'median': np.median(band),\n",
    "                  'max': band.max()})\n",
    "print(stats)    "
   ]
  },
  {
   "cell_type": "code",
   "execution_count": null,
   "id": "50b5cfd3",
   "metadata": {},
   "outputs": [],
   "source": [
    "from rasterio.plot import show"
   ]
  },
  {
   "cell_type": "code",
   "execution_count": null,
   "id": "8ff4607a",
   "metadata": {},
   "outputs": [],
   "source": [
    "show(raster)"
   ]
  },
  {
   "cell_type": "code",
   "execution_count": null,
   "id": "dbffd2b0",
   "metadata": {},
   "outputs": [],
   "source": [
    "show((raster, 1), cmap='Reds')"
   ]
  },
  {
   "cell_type": "code",
   "execution_count": null,
   "id": "ea56d218",
   "metadata": {
    "scrolled": true
   },
   "outputs": [],
   "source": [
    "show((raster, 2), cmap='Reds')"
   ]
  },
  {
   "cell_type": "markdown",
   "id": "123bf98c",
   "metadata": {},
   "source": [
    "# Calculations"
   ]
  },
  {
   "cell_type": "code",
   "execution_count": null,
   "id": "42f30601",
   "metadata": {},
   "outputs": [],
   "source": [
    "band1 = raster.read(1)\n",
    "band2 = raster.read(2)"
   ]
  },
  {
   "cell_type": "code",
   "execution_count": null,
   "id": "d3739be2",
   "metadata": {},
   "outputs": [],
   "source": [
    "np.seterr(divide='ignore', invalid='ignore')"
   ]
  },
  {
   "cell_type": "code",
   "execution_count": null,
   "id": "9c78d5ad",
   "metadata": {},
   "outputs": [],
   "source": [
    "ndvi = np.empty(raster.shape, dtype=rio.float32)"
   ]
  },
  {
   "cell_type": "code",
   "execution_count": null,
   "id": "148ae80c",
   "metadata": {},
   "outputs": [],
   "source": [
    "check = np.logical_or ( band1 > 0, band2 > 0 )"
   ]
  },
  {
   "cell_type": "code",
   "execution_count": null,
   "id": "6a7c4fce",
   "metadata": {},
   "outputs": [],
   "source": [
    "calc = np.where ( check,  (band1 - band2) / ( band1 + band2 ), -999 )"
   ]
  },
  {
   "cell_type": "code",
   "execution_count": null,
   "id": "f7415324",
   "metadata": {},
   "outputs": [],
   "source": [
    "calc.mean()"
   ]
  },
  {
   "cell_type": "code",
   "execution_count": null,
   "id": "45c7a12b",
   "metadata": {},
   "outputs": [],
   "source": [
    "calc.std()"
   ]
  },
  {
   "cell_type": "code",
   "execution_count": null,
   "id": "da35275f",
   "metadata": {},
   "outputs": [],
   "source": [
    "show(calc, cmap='summer')"
   ]
  }
 ],
 "metadata": {
  "kernelspec": {
   "display_name": "geo_env",
   "language": "python",
   "name": "geo_env"
  },
  "language_info": {
   "codemirror_mode": {
    "name": "ipython",
    "version": 3
   },
   "file_extension": ".py",
   "mimetype": "text/x-python",
   "name": "python",
   "nbconvert_exporter": "python",
   "pygments_lexer": "ipython3",
   "version": "3.9.4"
  }
 },
 "nbformat": 4,
 "nbformat_minor": 5
}
